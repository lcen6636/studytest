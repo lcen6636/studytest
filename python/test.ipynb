{
 "metadata": {
  "language_info": {
   "codemirror_mode": {
    "name": "ipython",
    "version": 3
   },
   "file_extension": ".py",
   "mimetype": "text/x-python",
   "name": "python",
   "nbconvert_exporter": "python",
   "pygments_lexer": "ipython3",
   "version": "3.7.0-final"
  },
  "orig_nbformat": 2,
  "kernelspec": {
   "name": "python37064bit32aa2abe92204d5ca538896de37d0439",
   "display_name": "Python 3.7.0 64-bit"
  }
 },
 "nbformat": 4,
 "nbformat_minor": 2,
 "cells": [
  {
   "cell_type": "code",
   "execution_count": null,
   "metadata": {
    "tags": []
   },
   "outputs": [],
   "source": [
    "print('hello,%s' %'world')\n",
    "print('hello,%s,youhave$%d'%('michael',100000))\n",
    "\n",
    "# %运算符就是用来格式化字符串的。在字符串内部，\n",
    "# %s表示用字符串替换，\n",
    "# %d表示用整数替换，\n",
    "# %f表示浮点数\n",
    "# %x表示十六进制整数\n",
    "# 有几个%?占位符，后面就跟几个变量或者值，顺序要对应好。\n",
    "# 如果只有一个%?，括号可以省略。"
   ]
  },
  {
   "cell_type": "code",
   "execution_count": null,
   "metadata": {
    "tags": []
   },
   "outputs": [],
   "source": [
    "print('age:%s,growth rate:%s%%'%(4,6))\n",
    "#若%作为普通字符输出，则用%%表示一个%"
   ]
  },
  {
   "cell_type": "code",
   "execution_count": null,
   "metadata": {
    "tags": []
   },
   "outputs": [],
   "source": [
    "# -*- coding: utf-8 -*-\n",
    "print('hello,{0},成绩提升了{1:.1f}%'.format('小明',17.12))"
   ]
  },
  {
   "cell_type": "code",
   "execution_count": null,
   "metadata": {},
   "outputs": [],
   "source": [
    "chr(66) #把编码转化为字符"
   ]
  },
  {
   "cell_type": "code",
   "execution_count": null,
   "metadata": {},
   "outputs": [],
   "source": [
    "ord('B') #获取字符的整数表示"
   ]
  },
  {
   "cell_type": "code",
   "execution_count": null,
   "metadata": {
    "tags": []
   },
   "outputs": [],
   "source": [
    "print('abc'.encode('ascii'))\n",
    "print('中'.encode('utf-8'))\n",
    "\n",
    "print(b'abc'.decode('ascii'))\n",
    "print(b'\\xe4\\xb8\\xad'.decode('utf-8'))"
   ]
  },
  {
   "cell_type": "code",
   "execution_count": null,
   "metadata": {
    "tags": []
   },
   "outputs": [],
   "source": [
    "classmates=['michael','bob','tracy']\n",
    "\n",
    "def printclassmates():\n",
    "    i=0\n",
    "    for name in classmates:\n",
    "        print(classmates[i])\n",
    "        i=i+1\n",
    "    print(\"classmates numbers=%d\" %len(classmates))\n",
    "def addclassmates():\n",
    "    newmates=input('please input new classmates name')\n",
    "    classmates.append(newmates) #添加元素到末尾\n",
    "def insertclassmates():\n",
    "    insertn=input('please input insert number')\n",
    "    insertmates=input('please input insert classmates name')\n",
    "    classmates.insert(insertn,insertmates)\n",
    "def deleteclassmates():\n",
    "    lastclassmates=classmates[-1]\n",
    "    classmates.pop()\n",
    "    print(\"%s has been deleted\" %lastclassmates)\n",
    "\n",
    "deleteclassmates()\n",
    "printclassmates()\n"
   ]
  },
  {
   "cell_type": "code",
   "execution_count": 5,
   "metadata": {
    "tags": []
   },
   "outputs": [
    {
     "output_type": "stream",
     "name": "stdout",
     "text": "1\n3\n5\n7\n9\n"
    }
   ],
   "source": [
    "n=0\n",
    "while n<10:\n",
    "    n=n+1\n",
    "    if n%2==0:\n",
    "        continue\n",
    "    print(n)"
   ]
  },
  {
   "cell_type": "code",
   "execution_count": 9,
   "metadata": {
    "tags": []
   },
   "outputs": [
    {
     "output_type": "stream",
     "name": "stdout",
     "text": "1\n2\n3\n{1, 2, 3, 4}\n{1, 3, 4}\n"
    }
   ],
   "source": [
    "s=set([1,2,3])\n",
    "for i in s:\n",
    "    print(i)\n",
    "s.add(4)\n",
    "print(s)\n",
    "s.remove(2)\n",
    "print(s)"
   ]
  },
  {
   "cell_type": "code",
   "execution_count": 5,
   "metadata": {
    "tags": []
   },
   "outputs": [
    {
     "output_type": "stream",
     "name": "stdout",
     "text": "95\n{'Michael': 95, 'Bob': 75, 'Tracy': 85, 'Adam': 67}\n{'Michael': 95, 'Bob': 75, 'Tracy': 85, 'Adam': 80}\n"
    }
   ],
   "source": [
    "d={'Michael':95,'Bob':75,'Tracy':85}\n",
    "print(d['Michael'])\n",
    "\n",
    "d['Adam']=67\n",
    "print(d)\n",
    "\n",
    "d['Adam']=80\n",
    "print(d)"
   ]
  },
  {
   "cell_type": "code",
   "execution_count": 6,
   "metadata": {
    "tags": []
   },
   "outputs": [
    {
     "output_type": "stream",
     "name": "stdout",
     "text": "{2, 3}\n{1, 2, 3, 4}\n"
    }
   ],
   "source": [
    "s1=set([1,2,3])\n",
    "s2=set([2,3,4])\n",
    "print(s1&s2)\n",
    "print(s1|s2)"
   ]
  },
  {
   "cell_type": "code",
   "execution_count": 2,
   "metadata": {
    "tags": []
   },
   "outputs": [
    {
     "output_type": "stream",
     "name": "stdout",
     "text": "Help on built-in function abs in module builtins:\n\nabs(x, /)\n    Return the absolute value of the argument.\n\nNone\n"
    }
   ],
   "source": [
    "print(help(abs))"
   ]
  },
  {
   "cell_type": "code",
   "execution_count": 3,
   "metadata": {
    "tags": []
   },
   "outputs": [
    {
     "output_type": "stream",
     "name": "stdout",
     "text": "234\n"
    }
   ],
   "source": [
    "print(abs(-234))"
   ]
  },
  {
   "cell_type": "code",
   "execution_count": 2,
   "metadata": {},
   "outputs": [
    {
     "output_type": "execute_result",
     "data": {
      "text/plain": "16"
     },
     "metadata": {},
     "execution_count": 2
    }
   ],
   "source": [
    "def power(x,n=2):\n",
    "    s=1\n",
    "    while(n>0):\n",
    "        n=n-1\n",
    "        s=s*x\n",
    "    return s\n",
    "\n",
    "power(4)"
   ]
  },
  {
   "cell_type": "code",
   "execution_count": 14,
   "metadata": {
    "tags": []
   },
   "outputs": [
    {
     "output_type": "stream",
     "name": "stdout",
     "text": "['end']\n['end', 'end']\n['end']\n['end']\n"
    }
   ],
   "source": [
    "def add_end1(L=[]):\n",
    "    L.append('end')\n",
    "    return L\n",
    "L=add_end1()\n",
    "print(L)\n",
    "L=add_end1()\n",
    "print(L)\n",
    "#上例可知，默认参数必须指向不变对象\n",
    "def add_end2(L=None):\n",
    "    if L is None:\n",
    "        L=[]\n",
    "    L.append('end')\n",
    "    return L\n",
    "L=add_end2()\n",
    "print(L)\n",
    "L=add_end2()\n",
    "print(L)"
   ]
  },
  {
   "cell_type": "code",
   "execution_count": 22,
   "metadata": {
    "tags": []
   },
   "outputs": [
    {
     "output_type": "stream",
     "name": "stdout",
     "text": "30\n70\n79\n64\n98\n"
    }
   ],
   "source": [
    "def calc(numbers):\n",
    "    sum=0\n",
    "    for n in numbers:\n",
    "        sum=sum + n * n\n",
    "    return sum\n",
    "print(calc([1,2,3,4]))\n",
    "print(calc((1,2,4,7)))\n",
    "\n",
    "def calcs(*numbers):\n",
    "    sum=0\n",
    "    for n in numbers:\n",
    "        sum = sum + n * n\n",
    "    return sum\n",
    "print(calcs(1,2,3,4,7))\n",
    "print(calcs(8))\n",
    "\n",
    "num=[1,4,9]\n",
    "print(calcs(*num))"
   ]
  },
  {
   "cell_type": "code",
   "execution_count": 5,
   "metadata": {
    "tags": []
   },
   "outputs": [
    {
     "output_type": "stream",
     "name": "stdout",
     "text": "name: michael age: 30 other: {}\nname: bob age: 35 other: {'city': 'Beijing'}\nname: adam age: 45 other: {'gender': 'M', 'job': 'engineer'}\n"
    }
   ],
   "source": [
    "def person(name,age,**kw):\n",
    "    print('name:',name,'age:',age,'other:',kw)\n",
    "person('michael',30)\n",
    "person('bob',35,city='Beijing')\n",
    "person('adam',45,gender='M',job='engineer')"
   ]
  },
  {
   "cell_type": "code",
   "execution_count": 6,
   "metadata": {
    "tags": []
   },
   "outputs": [
    {
     "output_type": "stream",
     "name": "stdout",
     "text": "a= 1 b= 2 c= 0 args= () kw= {}\na= 1 b= 2 c= 3 args= () kw= {}\na= 1 b= 2 c= 3 args= ('a', 'b') kw= {}\na= 1 b= 2 c= 3 args= ('a', 'b') kw= {'x': 99}\na= 1 b= 2 c= 0 d= 99 kw= {'ext': None}\na= 1 b= 2 c= 3 args= (4,) kw= {'s': 99, 'x': '#'}\na= 1 b= 2 c= 3 d= 88 kw= {'x': '#'}\n"
    }
   ],
   "source": [
    "def f1(a,b,c=0,*args,**kw):\n",
    "    print('a=',a,'b=',b,'c=',c,'args=',args,'kw=',kw)\n",
    "def f2(a,b,c=0,*,d,**kw):\n",
    "    print('a=',a,'b=',b,'c=',c,'d=',d,'kw=',kw)\n",
    "\n",
    "f1(1,2)\n",
    "f1(1,2,c=3)\n",
    "f1(1,2,3,'a','b')\n",
    "f1(1,2,3,'a','b',x=99)\n",
    "f2(1,2,d=99,ext=None)\n",
    "\n",
    "args=(1,2,3,4)\n",
    "kw={'s':99,'x':'#'}\n",
    "f1(*args,**kw)\n",
    "\n",
    "args=(1,2,3)\n",
    "kw={'d':88,'x':'#'}\n",
    "f2(*args,**kw)"
   ]
  },
  {
   "cell_type": "code",
   "execution_count": null,
   "metadata": {
    "tags": []
   },
   "outputs": [],
   "source": [
    "def product(x,*y):\n",
    "    if len(y):\n",
    "        return x * product(*y) #递归，*y包含多个参数\n",
    "    else:\n",
    "        return x\n",
    "\n",
    "print('2*3*4=',product(2,3,4))\n",
    "\n"
   ]
  },
  {
   "cell_type": "code",
   "execution_count": null,
   "metadata": {},
   "outputs": [],
   "source": []
  },
  {
   "cell_type": "code",
   "execution_count": null,
   "metadata": {},
   "outputs": [],
   "source": []
  }
 ]
}