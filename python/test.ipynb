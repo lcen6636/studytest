{
 "metadata": {
  "language_info": {
   "codemirror_mode": {
    "name": "ipython",
    "version": 3
   },
   "file_extension": ".py",
   "mimetype": "text/x-python",
   "name": "python",
   "nbconvert_exporter": "python",
   "pygments_lexer": "ipython3",
   "version": "3.7.0-final"
  },
  "orig_nbformat": 2,
  "kernelspec": {
   "name": "python37064bit32aa2abe92204d5ca538896de37d0439",
   "display_name": "Python 3.7.0 64-bit"
  }
 },
 "nbformat": 4,
 "nbformat_minor": 2,
 "cells": [
  {
   "cell_type": "code",
   "execution_count": null,
   "metadata": {
    "tags": []
   },
   "outputs": [],
   "source": [
    "print('hello,%s' %'world')\n",
    "print('hello,%s,youhave$%d'%('michael',100000))\n",
    "\n",
    "# %运算符就是用来格式化字符串的。在字符串内部，\n",
    "# %s表示用字符串替换，\n",
    "# %d表示用整数替换，\n",
    "# %f表示浮点数\n",
    "# %x表示十六进制整数\n",
    "# 有几个%?占位符，后面就跟几个变量或者值，顺序要对应好。\n",
    "# 如果只有一个%?，括号可以省略。"
   ]
  },
  {
   "cell_type": "code",
   "execution_count": null,
   "metadata": {
    "tags": []
   },
   "outputs": [],
   "source": [
    "print('age:%s,growth rate:%s%%'%(4,6))\n",
    "#若%作为普通字符输出，则用%%表示一个%"
   ]
  },
  {
   "cell_type": "code",
   "execution_count": null,
   "metadata": {
    "tags": []
   },
   "outputs": [],
   "source": [
    "# -*- coding: utf-8 -*-\n",
    "print('hello,{0},成绩提升了{1:.1f}%'.format('小明',17.12))"
   ]
  },
  {
   "cell_type": "code",
   "execution_count": null,
   "metadata": {},
   "outputs": [],
   "source": [
    "chr(66) #把编码转化为字符"
   ]
  },
  {
   "cell_type": "code",
   "execution_count": null,
   "metadata": {},
   "outputs": [],
   "source": [
    "ord('B') #获取字符的整数表示"
   ]
  },
  {
   "cell_type": "code",
   "execution_count": null,
   "metadata": {
    "tags": []
   },
   "outputs": [],
   "source": [
    "print('abc'.encode('ascii'))\n",
    "print('中'.encode('utf-8'))\n",
    "\n",
    "print(b'abc'.decode('ascii'))\n",
    "print(b'\\xe4\\xb8\\xad'.decode('utf-8'))"
   ]
  },
  {
   "cell_type": "code",
   "execution_count": null,
   "metadata": {
    "tags": []
   },
   "outputs": [],
   "source": [
    "classmates=['michael','bob','tracy']\n",
    "\n",
    "def printclassmates():\n",
    "    i=0\n",
    "    for name in classmates:\n",
    "        print(classmates[i])\n",
    "        i=i+1\n",
    "    print(\"classmates numbers=%d\" %len(classmates))\n",
    "def addclassmates():\n",
    "    newmates=input('please input new classmates name')\n",
    "    classmates.append(newmates) #添加元素到末尾\n",
    "def insertclassmates():\n",
    "    insertn=input('please input insert number')\n",
    "    insertmates=input('please input insert classmates name')\n",
    "    classmates.insert(insertn,insertmates)\n",
    "def deleteclassmates():\n",
    "    lastclassmates=classmates[-1]\n",
    "    classmates.pop()\n",
    "    print(\"%s has been deleted\" %lastclassmates)\n",
    "\n",
    "deleteclassmates()\n",
    "printclassmates()\n"
   ]
  },
  {
   "cell_type": "code",
   "execution_count": 5,
   "metadata": {
    "tags": []
   },
   "outputs": [
    {
     "output_type": "stream",
     "name": "stdout",
     "text": "1\n3\n5\n7\n9\n"
    }
   ],
   "source": [
    "n=0\n",
    "while n<10:\n",
    "    n=n+1\n",
    "    if n%2==0:\n",
    "        continue\n",
    "    print(n)"
   ]
  },
  {
   "cell_type": "code",
   "execution_count": 9,
   "metadata": {
    "tags": []
   },
   "outputs": [
    {
     "output_type": "stream",
     "name": "stdout",
     "text": "1\n2\n3\n{1, 2, 3, 4}\n{1, 3, 4}\n"
    }
   ],
   "source": [
    "s=set([1,2,3])\n",
    "for i in s:\n",
    "    print(i)\n",
    "s.add(4)\n",
    "print(s)\n",
    "s.remove(2)\n",
    "print(s)"
   ]
  },
  {
   "cell_type": "code",
   "execution_count": 10,
   "metadata": {
    "tags": []
   },
   "outputs": [
    {
     "output_type": "stream",
     "name": "stdout",
     "text": "{2, 3}\n{1, 2, 3, 4}\n"
    }
   ],
   "source": [
    "s1=set([1,2,3])\n",
    "s2=set([2,3,4])\n",
    "print(s1&s2)\n",
    "print(s1|s2)"
   ]
  },
  {
   "cell_type": "code",
   "execution_count": null,
   "metadata": {},
   "outputs": [],
   "source": []
  }
 ]
}